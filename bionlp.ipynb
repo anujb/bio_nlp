{
 "metadata": {
  "language_info": {
   "codemirror_mode": {
    "name": "ipython",
    "version": 3
   },
   "file_extension": ".py",
   "mimetype": "text/x-python",
   "name": "python",
   "nbconvert_exporter": "python",
   "pygments_lexer": "ipython3",
   "version": "3.8.3-final"
  },
  "orig_nbformat": 2,
  "kernelspec": {
   "name": "python38364bitpy38587cbc2fc154480bb012642be2762803",
   "display_name": "Python 3.8.3 64-bit ('py38')"
  }
 },
 "nbformat": 4,
 "nbformat_minor": 2,
 "cells": [
  {
   "cell_type": "code",
   "execution_count": 1,
   "metadata": {
    "tags": []
   },
   "outputs": [
    {
     "output_type": "stream",
     "name": "stdout",
     "text": "Requirement already satisfied: azure-ai-textanalytics in /Users/anuj/opt/anaconda3/lib/python3.7/site-packages (from -r requirements.txt (line 1)) (5.0.0)\nRequirement already satisfied: spacy in /Users/anuj/opt/anaconda3/lib/python3.7/site-packages (from -r requirements.txt (line 2)) (2.3.2)\nRequirement already satisfied: requests in /Users/anuj/opt/anaconda3/lib/python3.7/site-packages (from -r requirements.txt (line 3)) (2.22.0)\nRequirement already satisfied: pathlib in /Users/anuj/opt/anaconda3/lib/python3.7/site-packages (from -r requirements.txt (line 4)) (1.0.1)\nRequirement already satisfied: azure-common~=1.1 in /Users/anuj/opt/anaconda3/lib/python3.7/site-packages (from azure-ai-textanalytics->-r requirements.txt (line 1)) (1.1.25)\nRequirement already satisfied: six>=1.6 in /Users/anuj/opt/anaconda3/lib/python3.7/site-packages (from azure-ai-textanalytics->-r requirements.txt (line 1)) (1.14.0)\nRequirement already satisfied: msrest>=0.6.0 in /Users/anuj/opt/anaconda3/lib/python3.7/site-packages (from azure-ai-textanalytics->-r requirements.txt (line 1)) (0.6.19)\nRequirement already satisfied: azure-core<2.0.0,>=1.4.0 in /Users/anuj/opt/anaconda3/lib/python3.7/site-packages (from azure-ai-textanalytics->-r requirements.txt (line 1)) (1.8.1)\nRequirement already satisfied: setuptools in /Users/anuj/opt/anaconda3/lib/python3.7/site-packages (from spacy->-r requirements.txt (line 2)) (46.0.0.post20200309)\nRequirement already satisfied: murmurhash<1.1.0,>=0.28.0 in /Users/anuj/opt/anaconda3/lib/python3.7/site-packages (from spacy->-r requirements.txt (line 2)) (1.0.2)\nRequirement already satisfied: plac<1.2.0,>=0.9.6 in /Users/anuj/opt/anaconda3/lib/python3.7/site-packages (from spacy->-r requirements.txt (line 2)) (1.1.3)\nRequirement already satisfied: srsly<1.1.0,>=1.0.2 in /Users/anuj/opt/anaconda3/lib/python3.7/site-packages (from spacy->-r requirements.txt (line 2)) (1.0.2)\nRequirement already satisfied: thinc==7.4.1 in /Users/anuj/opt/anaconda3/lib/python3.7/site-packages (from spacy->-r requirements.txt (line 2)) (7.4.1)\nRequirement already satisfied: catalogue<1.1.0,>=0.0.7 in /Users/anuj/opt/anaconda3/lib/python3.7/site-packages (from spacy->-r requirements.txt (line 2)) (1.0.0)\nRequirement already satisfied: cymem<2.1.0,>=2.0.2 in /Users/anuj/opt/anaconda3/lib/python3.7/site-packages (from spacy->-r requirements.txt (line 2)) (2.0.3)\nRequirement already satisfied: preshed<3.1.0,>=3.0.2 in /Users/anuj/opt/anaconda3/lib/python3.7/site-packages (from spacy->-r requirements.txt (line 2)) (3.0.2)\nRequirement already satisfied: wasabi<1.1.0,>=0.4.0 in /Users/anuj/opt/anaconda3/lib/python3.7/site-packages (from spacy->-r requirements.txt (line 2)) (0.8.0)\nRequirement already satisfied: numpy>=1.15.0 in /Users/anuj/opt/anaconda3/lib/python3.7/site-packages (from spacy->-r requirements.txt (line 2)) (1.18.1)\nRequirement already satisfied: tqdm<5.0.0,>=4.38.0 in /Users/anuj/opt/anaconda3/lib/python3.7/site-packages (from spacy->-r requirements.txt (line 2)) (4.42.1)\nRequirement already satisfied: blis<0.5.0,>=0.4.0 in /Users/anuj/opt/anaconda3/lib/python3.7/site-packages (from spacy->-r requirements.txt (line 2)) (0.4.1)\nRequirement already satisfied: urllib3!=1.25.0,!=1.25.1,<1.26,>=1.21.1 in /Users/anuj/opt/anaconda3/lib/python3.7/site-packages (from requests->-r requirements.txt (line 3)) (1.25.8)\nRequirement already satisfied: idna<2.9,>=2.5 in /Users/anuj/opt/anaconda3/lib/python3.7/site-packages (from requests->-r requirements.txt (line 3)) (2.8)\nRequirement already satisfied: certifi>=2017.4.17 in /Users/anuj/opt/anaconda3/lib/python3.7/site-packages (from requests->-r requirements.txt (line 3)) (2019.11.28)\nRequirement already satisfied: chardet<3.1.0,>=3.0.2 in /Users/anuj/opt/anaconda3/lib/python3.7/site-packages (from requests->-r requirements.txt (line 3)) (3.0.4)\nRequirement already satisfied: requests-oauthlib>=0.5.0 in /Users/anuj/opt/anaconda3/lib/python3.7/site-packages (from msrest>=0.6.0->azure-ai-textanalytics->-r requirements.txt (line 1)) (1.3.0)\nRequirement already satisfied: isodate>=0.6.0 in /Users/anuj/opt/anaconda3/lib/python3.7/site-packages (from msrest>=0.6.0->azure-ai-textanalytics->-r requirements.txt (line 1)) (0.6.0)\nRequirement already satisfied: importlib-metadata>=0.20; python_version < \"3.8\" in /Users/anuj/opt/anaconda3/lib/python3.7/site-packages (from catalogue<1.1.0,>=0.0.7->spacy->-r requirements.txt (line 2)) (1.5.0)\nRequirement already satisfied: oauthlib>=3.0.0 in /Users/anuj/opt/anaconda3/lib/python3.7/site-packages (from requests-oauthlib>=0.5.0->msrest>=0.6.0->azure-ai-textanalytics->-r requirements.txt (line 1)) (3.1.0)\nRequirement already satisfied: zipp>=0.5 in /Users/anuj/opt/anaconda3/lib/python3.7/site-packages (from importlib-metadata>=0.20; python_version < \"3.8\"->catalogue<1.1.0,>=0.0.7->spacy->-r requirements.txt (line 2)) (2.2.0)\n^C\n\u001b[31mERROR: Operation cancelled by user\u001b[0m\n^C\nTraceback (most recent call last):\n  File \"/usr/local/opt/python@3.8/Frameworks/Python.framework/Versions/3.8/lib/python3.8/runpy.py\", line 185, in _run_module_as_main\n    mod_name, mod_spec, code = _get_module_details(mod_name, _Error)\n  File \"/usr/local/opt/python@3.8/Frameworks/Python.framework/Versions/3.8/lib/python3.8/runpy.py\", line 111, in _get_module_details\n    __import__(pkg_name)\n  File \"/usr/local/Cellar/azure-cli/2.11.1/libexec/lib/python3.8/site-packages/azure/__init__.py\", line 1, in <module>\n    ﻿__import__('pkg_resources').declare_namespace(__name__)\n  File \"/usr/local/Cellar/azure-cli/2.11.1/libexec/lib/python3.8/site-packages/pkg_resources/__init__.py\", line 26, in <module>\n    import zipfile\n  File \"/usr/local/opt/python@3.8/Frameworks/Python.framework/Versions/3.8/lib/python3.8/zipfile.py\", line 13, in <module>\n    import shutil\n  File \"/usr/local/Cellar/azure-cli/2.11.1/libexec/lib/python3.8/shutil.py\", line 15, in <module>\n    import zlib\nKeyboardInterrupt\n"
    }
   ],
   "source": [
    "#Installing requirements\n",
    "! pip install -r requirements.txt\n",
    "\n",
    "#Checking Azure CLI. If this fails install Azure CLI here: https://docs.microsoft.com/en-us/cli/azure/install-azure-cli?view=azure-cli-latest\n",
    "!az --version"
   ]
  },
  {
   "cell_type": "code",
   "execution_count": 23,
   "metadata": {
    "tags": []
   },
   "outputs": [],
   "source": [
    "%%bash\n",
    "#This series of bash commands will create and deploy the Text Analytics for Health Container into an Azure Web App Service\n",
    "\n",
    "DOCKER_IMAGE_NAME=\"containerpreview.azurecr.io/microsoft/cognitive-services-healthcare:latest\"\n",
    "subscription_id=\"\" #Example: 2f347497-ec3e-444e-9703-2227ce39ff61\n",
    "resource_group_name=\"\" #Example: rg-anujbh-biomedicalnlp\n",
    "resources_location=\"\" #Example: westus2, eastus, etc.\n",
    "appservice_plan_name=\"\" #Example: P3v2. You'll need at least 4 cores and 8GB RAM\n",
    "appservice_name=\"\" #Example: biomedicalnlpapp\n",
    "\n",
    "\n",
    "DOCKER_REGISTRY_SERVER_USERNAME=\"\" #Example: 88c952ab-5221-4e7c-9736-72ba0e393c4c\n",
    "DOCKER_REGISTRY_SERVER_PASSWORD=\"\" #Example: 82968a04-0b3b-47dd-a121-af97a3f29f17\n",
    "DOCKER_IMAGE_NAME=\"containerpreview.azurecr.io/microsoft/cognitive-services-healthcare:latest\"\n",
    "\n",
    "# Login and set subscription\n",
    "az login\n",
    "az account set --subscription $subscription_id\n",
    "\n",
    "# Create text analytics resource\n",
    "TEXT_ANALYTICS_RESOURCE_NAME=\"taservice\"\n",
    "az cognitiveservices account create -n $TEXT_ANALYTICS_RESOURCE_NAME -g $resource_group_name --kind TextAnalytics --sku S0 --location westus2\n",
    "\n",
    "# Get Text Analytics Keys/Info\n",
    "az cognitiveservices account keys list -n taservice -g rg-anujbh-biomedicalrecognition -o table\n",
    "az cognitiveservices account show -n taservice -g rg-anujbh-biomedicalrecognition -o jsonc\n",
    "\n",
    "# Set key and endpoint name\n",
    "TEXT_ANALYTICS_RESOURCE_API_KEY=\"\" #Example: 18b30e87965c4ea48c690fe748121031. You need to create this separately\n",
    "TEXT_ANALYTICS_RESOURCE_API_ENDPOINT=\"\" #Example: https://<text_analytics_endpoint>.cognitiveservices.azure.com\"\n",
    "\n",
    "az appservice plan create -n $appservice_plan_name -g $resource_group_name --is-linux -l $resources_location --sku P3V2\n",
    "az webapp create -g $resource_group_name -p $appservice_plan_name -n $appservice_name -i $DOCKER_IMAGE_NAME -s $DOCKER_REGISTRY_SERVER_USERNAME -w $DOCKER_REGISTRY_SERVER_PASSWORD\n",
    "az webapp config appsettings set -g $resource_group_name -n $appservice_name --settings Eula=accept Billing=$TEXT_ANALYTICS_RESOURCE_API_ENDPOINT ApiKey=$TEXT_ANALYTICS_RESOURCE_API_KEY\n"
   ]
  },
  {
   "source": [
    "#Once our container is deployed to Azure Web App, we'll need to check to see if it's running. Here's some quick python code to perform the health check every 15 seconds\n",
    "\n",
    "import requests\n",
    "import spacy\n",
    "from spacy import displacy\n",
    "import json\n",
    "\n",
    "#TODO: Update this URL with your Web App Service URI\n",
    "app_service_name = \"ta4hwebapp\"\n",
    "endpoint = f\"https://{app_service_name}.azurewebsites.net\"\n"
   ],
   "cell_type": "code",
   "metadata": {
    "tags": []
   },
   "execution_count": 142,
   "outputs": []
  },
  {
   "cell_type": "code",
   "execution_count": null,
   "metadata": {},
   "outputs": [],
   "source": [
    "import time\n",
    "\n",
    "#Check to see if we are retrying\n",
    "retrying = False\n",
    "\n",
    "for i in range(0, 2):\n",
    "    try:\n",
    "        response = requests.get(endpoint + \"/ready\")\n",
    "        if response.status_code == 200:\n",
    "            print(f\"\\n===\\nHuzzah! Service is up and running at: {endpoint}\")\n",
    "            break\n",
    "        elif retrying:\n",
    "            time.sleep(15)\n",
    "    except Exception as e:\n",
    "        print(\"Health check failed:\")\n",
    "        retrying = True\n"
   ]
  },
  {
   "cell_type": "code",
   "execution_count": 148,
   "metadata": {
    "tags": []
   },
   "outputs": [
    {
     "output_type": "stream",
     "name": "stdout",
     "text": "https://ta4hwebapp.azurewebsites.net/text/analytics/v3.2-preview.1/entities/health\n\n===\nHuzzah! \n Call to endpoint succeeded: https://ta4hwebapp.azurewebsites.net\n\nPayload response:\n b'{\"documents\":[{\"id\":\"1\",\"entities\":[{\"id\":\"0\",\"offset\":28,\"length\":5,\"text\":\"daily\",\"category\":\"Freq' \n\n"
    }
   ],
   "source": [
    "request_data = {\n",
    "    \"documents\": [\n",
    "        {\n",
    "            \"language\": \"en\",\n",
    "            \"id\": \"1\",\n",
    "            \"text\": \"Subject must have a minimum daily insulin requirement of greater than or equal to 8 units.\"\n",
    "        }\n",
    "    ]\n",
    "}\n",
    "\n",
    "# response = requests.post(\"https://ta4hwebapp.azurewebsites.net/text/analytics/v3.2-preview.1/entities/health\",\n",
    "print(f\"{endpoint}/text/analytics/v3.2-preview.1/entities/health\")\n",
    "response = requests.post(f\"{endpoint}/text/analytics/v3.2-preview.1/entities/health\",\n",
    "    headers= {\n",
    "        \"Accept\": \"application/json\",\n",
    "        \"Content-Type\": \"application/json\"\n",
    "    },\n",
    "    data=json.dumps(request_data))\n",
    "\n",
    "if response.status_code == 200:\n",
    "    print(f\"\\n===\\nHuzzah! \\n Call to endpoint succeeded: {endpoint}\\n\")\n",
    "    print(f\"Payload response:\\n {response.content[0:100]} \\n===\\n\")\n",
    "\n"
   ]
  },
  {
   "cell_type": "code",
   "execution_count": 149,
   "metadata": {
    "tags": []
   },
   "outputs": [
    {
     "output_type": "stream",
     "name": "stdout",
     "text": "[{'start': 28, 'end': 33, 'label': 'Frequency'}, {'start': 34, 'end': 41, 'label': 'MedicationName'}, {'start': 57, 'end': 81, 'label': 'RelationalOperator'}, {'start': 82, 'end': 89, 'label': 'Dosage'}]\n\n"
    },
    {
     "output_type": "display_data",
     "data": {
      "text/plain": "<IPython.core.display.HTML object>",
      "text/html": "<span class=\"tex2jax_ignore\"><div class=\"entities\" style=\"line-height: 2.5; direction: ltr\">Subject must have a minimum \n<mark class=\"entity\" style=\"background: #ddd; padding: 0.45em 0.6em; margin: 0 0.25em; line-height: 1; border-radius: 0.35em;\">\n    daily\n    <span style=\"font-size: 0.8em; font-weight: bold; line-height: 1; border-radius: 0.35em; text-transform: uppercase; vertical-align: middle; margin-left: 0.5rem\">Frequency</span>\n</mark>\n \n<mark class=\"entity\" style=\"background: #ddd; padding: 0.45em 0.6em; margin: 0 0.25em; line-height: 1; border-radius: 0.35em;\">\n    insulin\n    <span style=\"font-size: 0.8em; font-weight: bold; line-height: 1; border-radius: 0.35em; text-transform: uppercase; vertical-align: middle; margin-left: 0.5rem\">MedicationName</span>\n</mark>\n requirement of \n<mark class=\"entity\" style=\"background: #ddd; padding: 0.45em 0.6em; margin: 0 0.25em; line-height: 1; border-radius: 0.35em;\">\n    greater than or equal to\n    <span style=\"font-size: 0.8em; font-weight: bold; line-height: 1; border-radius: 0.35em; text-transform: uppercase; vertical-align: middle; margin-left: 0.5rem\">RelationalOperator</span>\n</mark>\n \n<mark class=\"entity\" style=\"background: #ddd; padding: 0.45em 0.6em; margin: 0 0.25em; line-height: 1; border-radius: 0.35em;\">\n    8 units\n    <span style=\"font-size: 0.8em; font-weight: bold; line-height: 1; border-radius: 0.35em; text-transform: uppercase; vertical-align: middle; margin-left: 0.5rem\">Dosage</span>\n</mark>\n</div></span>"
     },
     "metadata": {}
    }
   ],
   "source": [
    "colors = {\n",
    "    \"Frequency\": \"#1e90ff\",\n",
    "    \"MedicationName\": \"#9932cc\",\n",
    "    \"RelationalOperator\": \"#228b22\",\n",
    "    \"Dosage\": \"#ff4500\"\n",
    "}\n",
    "\n",
    "options = {\"ents\": [\"Frequency\",\"MedicationName\",\"RelationalOperator\",\"Dosage\"], \"colors\": colors}\n",
    "\n",
    "text = \"Subject must have a minimum daily insulin requirement of greater than or equal to 8 units\"\n",
    "\n",
    "entities = response.json()[\"documents\"][0][\"entities\"]\n",
    "\n",
    "ent_output = []\n",
    "for e in entities:\n",
    "    ent_output.append({\"start\": e[\"offset\"], \"end\": e[\"offset\"]+e[\"length\"], \"label\": e[\"category\"]})\n",
    "\n",
    "print(str(ent_output) + \"\\n\")\n",
    "\n",
    "ex = [{\"text\": text,\n",
    "       \"ents\": ents,\n",
    "       \"title\": None}]\n",
    "displacy.render(ex, style=\"ent\", manual=True, )\n"
   ]
  },
  {
   "cell_type": "code",
   "execution_count": null,
   "metadata": {},
   "outputs": [],
   "source": []
  }
 ]
}